{
 "cells": [
  {
   "cell_type": "markdown",
   "id": "81ac8fb1-1d0c-46f4-ab34-aed99a23ce3b",
   "metadata": {},
   "source": [
    "# Perform End-to-End Analysis of DineSafe Infractions"
   ]
  },
  {
   "cell_type": "code",
   "execution_count": 1,
   "id": "e4022120-60f3-4420-8779-ed281bef2c53",
   "metadata": {},
   "outputs": [],
   "source": [
    "%load_ext lab_black\n",
    "%load_ext autoreload\n",
    "%autoreload 2"
   ]
  },
  {
   "cell_type": "code",
   "execution_count": 2,
   "id": "306d0d56-45c1-4aa1-97cc-8a49f72a3867",
   "metadata": {},
   "outputs": [],
   "source": [
    "import configparser\n",
    "\n",
    "from sqlalchemy import create_engine"
   ]
  },
  {
   "cell_type": "code",
   "execution_count": 3,
   "id": "c03bfee5-883f-452d-a92c-47b30e661ae3",
   "metadata": {},
   "outputs": [],
   "source": [
    "%aimport src.prefect_utils\n",
    "from src.prefect_utils import analyze_infractions"
   ]
  },
  {
   "cell_type": "markdown",
   "id": "5dd45dc2-0c3a-42f1-99c1-e93c2be60b92",
   "metadata": {},
   "source": [
    "## User Inputs"
   ]
  },
  {
   "cell_type": "code",
   "execution_count": 15,
   "id": "62c6a363-67c3-421a-88bd-02541e6a5448",
   "metadata": {},
   "outputs": [],
   "source": [
    "# Data file names to download (these are timestamps at which data snapshot was\n",
    "# captured by WayBackMachine)\n",
    "zip_filenames = [\n",
    "    \"20130723222156\",\n",
    "    \"20150603085055\",\n",
    "    \"20151012004454\",\n",
    "    \"20160129205023\",\n",
    "    \"20160317045436\",\n",
    "    \"20160915001010\",\n",
    "    \"20170303162206\",\n",
    "    \"20170330001043\",\n",
    "    \"20170726115444\",\n",
    "    \"20190116215713\",\n",
    "    \"20190126084933\",\n",
    "    \"20190614092848\",\n",
    "    \"20210626163552\",\n",
    "]\n",
    "\n",
    "# Order of DataFrame columns (to re-order raw data) in order to match column order in database table\n",
    "cols_order_wanted = [\n",
    "    \"row_id\",\n",
    "    \"establishment_id\",\n",
    "    \"inspection_id\",\n",
    "    \"establishment_name\",\n",
    "    \"establishmenttype\",\n",
    "    \"establishment_address\",\n",
    "    \"latitude\",\n",
    "    \"longitude\",\n",
    "    \"establishment_status\",\n",
    "    \"minimum_inspections_peryear\",\n",
    "    \"infraction_details\",\n",
    "    \"inspection_date\",\n",
    "    \"severity\",\n",
    "    \"action\",\n",
    "    \"court_outcome\",\n",
    "    \"amount_fined\",\n",
    "    \"filename\",\n",
    "]\n",
    "\n",
    "establishment_types_wanted = [\n",
    "    \"Restaurant\",\n",
    "    \"Food Take Out\",\n",
    "    \"Food Store (Convenience / Variety)\",  # equivalent to grocery store\n",
    "    \"Food Court Vendor\",\n",
    "    \"Supermarket\",  # equivalent to grocery store\n",
    "    \"Bakery\",  # equivalent to grocery store\n",
    "    # \"Food Caterer\",\n",
    "    \"Butcher Shop\",  # equivalent to grocery store\n",
    "    \"Cafeteria - Public Access\",\n",
    "    # \"Boarding / Lodging Home - Kitchen\",\n",
    "    \"Cocktail Bar / Beverage Room\",\n",
    "    # \"Food Depot\",\n",
    "    # \"Private Club\",\n",
    "    \"Fish Shop\",  # equivalent to grocery store\n",
    "    \"Bake Shop\",  # equivalent to grocery store\n",
    "    # \"Food Bank\",\n",
    "    \"Flea Market\",  # equivalent to grocery store\n",
    "    \"Farmer\\\\'s Market\",  # equivalent to grocery store\n",
    "    # \"Bed & Breakfast\",\n",
    "]"
   ]
  },
  {
   "cell_type": "code",
   "execution_count": 4,
   "id": "ea786505-252c-4c67-be88-ceb8f561f7cf",
   "metadata": {},
   "outputs": [],
   "source": [
    "config = configparser.ConfigParser()\n",
    "config.read(\"../sql.ini\")\n",
    "default_cfg = config[\"default\"]"
   ]
  },
  {
   "cell_type": "code",
   "execution_count": 5,
   "id": "0abe2ec3-b2b7-461a-b06e-7b6f03d17148",
   "metadata": {},
   "outputs": [],
   "source": [
    "DB_TYPE = default_cfg[\"DB_TYPE\"]\n",
    "DB_DRIVER = default_cfg[\"DB_DRIVER\"]\n",
    "DB_USER = default_cfg[\"DB_USER\"]\n",
    "DB_PASS = default_cfg[\"DB_PASS\"]\n",
    "DB_HOST = default_cfg[\"DB_HOST\"]\n",
    "DB_PORT = default_cfg[\"DB_PORT\"]\n",
    "DB_NAME = default_cfg[\"DB_NAME\"]"
   ]
  },
  {
   "cell_type": "code",
   "execution_count": 6,
   "id": "f156844c-26ea-4ae6-86e0-4a521feb2357",
   "metadata": {},
   "outputs": [],
   "source": [
    "# Connect to single database (required to create database)\n",
    "URI_NO_DB = f\"{DB_TYPE}+{DB_DRIVER}://{DB_USER}:{DB_PASS}@{DB_HOST}:{DB_PORT}\"\n",
    "\n",
    "# Connect to all databases (required to perform CRUD operations and submit queries)\n",
    "URI = f\"{DB_TYPE}+{DB_DRIVER}://{DB_USER}:{DB_PASS}@{DB_HOST}:{DB_PORT}/{DB_NAME}\""
   ]
  },
  {
   "cell_type": "markdown",
   "id": "010fab93-2ec7-4a40-91e5-00d562daceaf",
   "metadata": {},
   "source": [
    "## About"
   ]
  },
  {
   "cell_type": "markdown",
   "id": "2346eb9b-a781-452f-9ac8-999acfe52b0c",
   "metadata": {},
   "source": [
    "Run through end-to-end workflow."
   ]
  },
  {
   "cell_type": "markdown",
   "id": "69e5de32-2981-4eaf-b31a-e2aa32655ceb",
   "metadata": {},
   "source": [
    "## Database Administration"
   ]
  },
  {
   "cell_type": "markdown",
   "id": "d474a24b-61a9-4630-a696-8cae656b7001",
   "metadata": {},
   "source": [
    "The inspections data will be stored locally in a MySQL database. We'll first create the `dinesafe` database"
   ]
  },
  {
   "cell_type": "code",
   "execution_count": 7,
   "id": "a5ddcf14-7453-420f-9a83-da6e399fc494",
   "metadata": {},
   "outputs": [],
   "source": [
    "# engine = create_engine(URI_NO_DB)\n",
    "# conn = engine.connect()"
   ]
  },
  {
   "cell_type": "code",
   "execution_count": 8,
   "id": "db1cfdd5-e94e-4f30-a0dd-7839c5930d5b",
   "metadata": {},
   "outputs": [],
   "source": [
    "# _ = conn.execute(f\"DROP DATABASE IF EXISTS {DB_NAME};\")\n",
    "# _ = conn.execute(f\"CREATE DATABASE IF NOT EXISTS {DB_NAME};\")"
   ]
  },
  {
   "cell_type": "code",
   "execution_count": 9,
   "id": "cedb48fc-3b2b-46e3-916a-a2662bd97acd",
   "metadata": {},
   "outputs": [],
   "source": [
    "# conn.close()\n",
    "# engine.dispose()"
   ]
  },
  {
   "cell_type": "markdown",
   "id": "7569319e-49ac-4375-898d-efaaff3503c2",
   "metadata": {},
   "source": [
    "## Create Database Table"
   ]
  },
  {
   "cell_type": "code",
   "execution_count": 10,
   "id": "87cee095-4a3b-4d15-bf07-f5280aac18b6",
   "metadata": {},
   "outputs": [],
   "source": [
    "# engine = create_engine(URI)\n",
    "# conn = engine.connect()"
   ]
  },
  {
   "cell_type": "markdown",
   "id": "504201fa-9693-459c-abbd-fde9df26c7b4",
   "metadata": {},
   "source": [
    "Create the `inspections` table in the `dinesafe` database"
   ]
  },
  {
   "cell_type": "code",
   "execution_count": 11,
   "id": "d71cbeb9-7198-466f-8c3b-e4942489ab57",
   "metadata": {},
   "outputs": [],
   "source": [
    "# Name of database table\n",
    "table_name = \"inspections2\""
   ]
  },
  {
   "cell_type": "code",
   "execution_count": 12,
   "id": "6d92f2d7-9a7c-4d42-a2ea-db6fc4e47120",
   "metadata": {
    "tags": []
   },
   "outputs": [],
   "source": [
    "# _ = conn.execute(f\"DROP TABLE IF EXISTS {table_name}\")"
   ]
  },
  {
   "cell_type": "code",
   "execution_count": 13,
   "id": "ff87f918-f014-407e-afab-71a3cdcdd152",
   "metadata": {},
   "outputs": [],
   "source": [
    "# create_table_query = f\"\"\"\n",
    "#                      CREATE TABLE IF NOT EXISTS {table_name} (\n",
    "#                          row_id INT,\n",
    "#                          establishment_id INT,\n",
    "#                          inspection_id INT,\n",
    "#                          establishment_name TEXT,\n",
    "#                          establishmenttype TEXT,\n",
    "#                          establishment_address TEXT,\n",
    "#                          latitude FLOAT,\n",
    "#                          longitude FLOAT,\n",
    "#                          establishment_status TEXT,\n",
    "#                          minimum_inspections_peryear INT,\n",
    "#                          infraction_details TEXT,\n",
    "#                          inspection_date DATE,\n",
    "#                          severity TEXT,\n",
    "#                          action TEXT,\n",
    "#                          court_outcome TEXT,\n",
    "#                          amount_fined FLOAT,\n",
    "#                          filename VARCHAR(20)\n",
    "#                      )\n",
    "#                      \"\"\"\n",
    "# _ = conn.execute(create_table_query)"
   ]
  },
  {
   "cell_type": "code",
   "execution_count": 14,
   "id": "03df554a-5e06-4e96-b209-1b3ee6f9bbcc",
   "metadata": {},
   "outputs": [],
   "source": [
    "# conn.close()\n",
    "# engine.dispose()"
   ]
  },
  {
   "cell_type": "markdown",
   "id": "2ab261f9-0503-43b5-832c-4841aa284579",
   "metadata": {
    "tags": []
   },
   "source": [
    "## End-to-End Workflow"
   ]
  },
  {
   "cell_type": "code",
   "execution_count": 16,
   "id": "50720cac-85d3-4071-94e3-ca8c27ed825a",
   "metadata": {
    "tags": []
   },
   "outputs": [
    {
     "name": "stdout",
     "output_type": "stream",
     "text": [
      "00:22:12.225 | Beginning flow run 'lovely-oriole' for flow 'Run through end-to-end analysis workflow'...\n",
      "00:22:12.226 | Starting task runner `SequentialTaskRunner`...\n",
      "00:22:12.329 | Submitting task run 'Retrieve DineSafe infractions data from WayBackMachine-69cac2d9-0' to task runner...\n",
      "00:22:12.356 | Found 20130723222156 locally at data/raw/20130723222156/dinesafe.xml. Did nothing.\n",
      "00:22:12.357 | Found 20150603085055 locally at data/raw/20150603085055/dinesafe.xml. Did nothing.\n",
      "00:22:12.357 | Found 20151012004454 locally at data/raw/20151012004454/dinesafe.xml. Did nothing.\n",
      "00:22:12.358 | Found 20160129205023 locally at data/raw/20160129205023/dinesafe.xml. Did nothing.\n",
      "00:22:12.359 | Found 20160317045436 locally at data/raw/20160317045436/dinesafe.xml. Did nothing.\n",
      "00:22:12.360 | Found 20160915001010 locally at data/raw/20160915001010/dinesafe.xml. Did nothing.\n",
      "00:22:12.362 | Found 20170303162206 locally at data/raw/20170303162206/dinesafe.xml. Did nothing.\n",
      "00:22:12.363 | Found 20170330001043 locally at data/raw/20170330001043/dinesafe.xml. Did nothing.\n",
      "00:22:12.364 | Found 20170726115444 locally at data/raw/20170726115444/dinesafe.xml. Did nothing.\n",
      "00:22:12.365 | Found 20190116215713 locally at data/raw/20190116215713/dinesafe.xml. Did nothing.\n",
      "00:22:12.366 | Found 20190126084933 locally at data/raw/20190126084933/dinesafe.xml. Did nothing.\n",
      "00:22:12.366 | Found 20190614092848 locally at data/raw/20190614092848/dinesafe.xml. Did nothing.\n",
      "00:22:12.367 | Found 20210626163552 locally at data/raw/20210626163552/dinesafe.xml. Did nothing.\n",
      "00:22:13.155 | Task run 'Retrieve DineSafe infractions data from WayBackMachine-69cac2d9-0' finished in state Completed(message=None, type=COMPLETED)\n",
      "00:22:13.225 | Beginning subflow run 'capable-sambar' for flow 'Process raw infraction data'...\n",
      "00:22:13.226 | Starting task runner `DaskTaskRunner`...\n",
      "00:22:13.226 | Creating a new Dask cluster with `distributed.deploy.local.LocalCluster`\n",
      "00:22:13.793 | The Dask dashboard is available at http://127.0.0.1:8787/status\n",
      "00:22:13.861 | Submitting task run 'Process raw infraction data-5e46cbc0-0' to task runner...\n",
      "00:22:13.982 | Submitting task run 'Process raw infraction data-5e46cbc0-1' to task runner...\n",
      "00:22:14.018 | Submitting task run 'Process raw infraction data-5e46cbc0-2' to task runner...\n",
      "00:22:14.055 | Submitting task run 'Process raw infraction data-5e46cbc0-3' to task runner...\n",
      "00:22:14.100 | Submitting task run 'Process raw infraction data-5e46cbc0-4' to task runner...\n",
      "00:22:14.145 | Submitting task run 'Process raw infraction data-5e46cbc0-5' to task runner...\n",
      "00:22:14.189 | Submitting task run 'Process raw infraction data-5e46cbc0-6' to task runner...\n",
      "00:22:14.235 | Submitting task run 'Process raw infraction data-5e46cbc0-7' to task runner...\n",
      "00:22:14.273 | Submitting task run 'Process raw infraction data-5e46cbc0-8' to task runner...\n",
      "00:22:14.314 | Submitting task run 'Process raw infraction data-5e46cbc0-9' to task runner...\n",
      "00:22:14.351 | Submitting task run 'Process raw infraction data-5e46cbc0-10' to task runner...\n",
      "00:22:14.389 | Submitting task run 'Process raw infraction data-5e46cbc0-11' to task runner...\n",
      "00:22:14.430 | Submitting task run 'Process raw infraction data-5e46cbc0-12' to task runner...\n",
      "00:22:14.965 | Found data from 20160317045436 in database table inspections2. Did nothing.\n",
      "00:22:14.986 | Found data from 20130723222156 in database table inspections2. Did nothing.\n",
      "00:22:15.000 | Found data from 20150603085055 in database table inspections2. Did nothing.\n",
      "00:22:15.014 | Task run 'Process raw infraction data-5e46cbc0-4' finished in state Completed(message=None, type=COMPLETED)\n",
      "00:22:15.029 | Found data from 20170303162206 in database table inspections2. Did nothing.\n",
      "00:22:15.044 | Found data from 20210626163552 in database table inspections2. Did nothing.\n",
      "00:22:15.057 | Task run 'Process raw infraction data-5e46cbc0-6' finished in state Completed(message=None, type=COMPLETED)\n",
      "00:22:15.072 | Found data from 20160129205023 in database table inspections2. Did nothing.\n",
      "00:22:15.084 | Found data from 20170726115444 in database table inspections2. Did nothing.\n",
      "00:22:15.095 | Task run 'Process raw infraction data-5e46cbc0-3' finished in state Completed(message=None, type=COMPLETED)\n",
      "00:22:15.107 | Task run 'Process raw infraction data-5e46cbc0-8' finished in state Completed(message=None, type=COMPLETED)\n",
      "00:22:15.120 | Task run 'Process raw infraction data-5e46cbc0-12' finished in state Completed(message=None, type=COMPLETED)\n",
      "00:22:15.132 | Task run 'Process raw infraction data-5e46cbc0-1' finished in state Completed(message=None, type=COMPLETED)\n",
      "00:22:15.147 | Found data from 20151012004454 in database table inspections2. Did nothing.\n",
      "00:22:15.162 | Found data from 20170330001043 in database table inspections2. Did nothing.\n",
      "00:22:15.176 | Task run 'Process raw infraction data-5e46cbc0-2' finished in state Completed(message=None, type=COMPLETED)\n",
      "00:22:15.189 | Task run 'Process raw infraction data-5e46cbc0-7' finished in state Completed(message=None, type=COMPLETED)\n",
      "00:22:15.225 | Found data from 20160915001010 in database table inspections2. Did nothing.\n",
      "00:22:15.242 | Found data from 20190614092848 in database table inspections2. Did nothing.\n",
      "00:22:15.256 | Task run 'Process raw infraction data-5e46cbc0-5' finished in state Completed(message=None, type=COMPLETED)\n",
      "00:22:15.271 | Task run 'Process raw infraction data-5e46cbc0-11' finished in state Completed(message=None, type=COMPLETED)\n",
      "00:22:15.335 | Found data from 20190116215713 in database table inspections2. Did nothing.\n",
      "00:22:15.362 | Found data from 20190126084933 in database table inspections2. Did nothing.\n",
      "00:22:15.378 | Task run 'Process raw infraction data-5e46cbc0-9' finished in state Completed(message=None, type=COMPLETED)\n",
      "00:22:15.394 | Task run 'Process raw infraction data-5e46cbc0-10' finished in state Completed(message=None, type=COMPLETED)\n",
      "00:22:15.462 | Task run 'Process raw infraction data-5e46cbc0-0' finished in state Completed(message=None, type=COMPLETED)\n",
      "00:22:15.547 | Shutting down task runner `DaskTaskRunner`...\n",
      "00:22:15.971 | Subflow run 'capable-sambar' finished in state Completed(message='All states completed.', type=COMPLETED)\n",
      "00:22:16.008 | Submitting task run 'Append transformed infractions to database table-acc601b9-0' to task runner...\n",
      "00:22:16.041 | No new data to append to database table inspections2. Did nothing.\n",
      "00:22:16.856 | Task run 'Append transformed infractions to database table-acc601b9-0' finished in state Completed(message=None, type=COMPLETED)\n",
      "00:22:16.922 | Beginning subflow run 'tourmaline-mastodon' for flow 'Converting infractions into inspections'...\n",
      "00:22:16.922 | Starting task runner `SequentialTaskRunner`...\n",
      "00:22:16.985 | Submitting task run 'aggregate_inspections-480c1180-0' to task runner...\n",
      "00:22:17.010 | Aggregate infractions into inspections...\n",
      "00:22:34.043 | Done.\n",
      "00:22:35.892 | Task run 'aggregate_inspections-480c1180-0' finished in state Completed(message=None, type=COMPLETED)\n",
      "00:22:35.922 | Submitting task run 'remove_multi_day_inspections-cff0a3f1-0' to task runner...\n",
      "00:22:35.947 | Removing multi-day inspections...\n",
      "00:22:36.624 | Done.\n",
      "00:22:37.959 | Task run 'remove_multi_day_inspections-cff0a3f1-0' finished in state Completed(message=None, type=COMPLETED)\n",
      "00:22:38.000 | Submitting task run 'remove_reinspections-b5ff59a6-0' to task runner...\n",
      "00:22:38.029 | Remove re-inspections...\n",
      "00:22:43.482 | Done.\n",
      "00:22:44.734 | Task run 'remove_reinspections-b5ff59a6-0' finished in state Completed(message=None, type=COMPLETED)\n",
      "00:22:44.761 | Submitting task run 'create_class_labels-8247fb8d-0' to task runner...\n",
      "00:22:44.784 | Create class labels column...\n",
      "00:22:44.788 | Done.\n",
      "00:22:45.985 | Task run 'create_class_labels-8247fb8d-0' finished in state Completed(message=None, type=COMPLETED)\n",
      "00:22:46.747 | Shutting down task runner `SequentialTaskRunner`...\n",
      "00:22:47.536 | Subflow run 'tourmaline-mastodon' finished in state Completed(message='All states completed.', type=COMPLETED)\n",
      "00:22:47.564 | Submitting task run 'get_missing_lat_lon-ab8cc4f7-0' to task runner...\n",
      "00:22:47.600 | Getting locations missing a latitude and longitude...\n",
      "00:22:49.957 | Done.\n",
      "00:22:51.212 | Task run 'get_missing_lat_lon-ab8cc4f7-0' finished in state Completed(message=None, type=COMPLETED)\n",
      "00:22:51.253 | Submitting task run 'geocode_missing_addr_lat_lon-c749a4cf-0' to task runner...\n",
      "00:22:51.277 | Geocoding locations a missing co-ordinates...\n",
      "00:23:13.305 | Done.\n",
      "00:23:14.618 | Task run 'geocode_missing_addr_lat_lon-c749a4cf-0' finished in state Completed(message=None, type=COMPLETED)\n",
      "00:23:14.660 | Submitting task run 'replace_missing_lat_lon-8fb65078-0' to task runner...\n",
      "00:23:14.702 | Replacing missing co-ordinates with geocoded values...\n",
      "00:23:14.770 | Done.\n",
      "00:23:16.018 | Task run 'replace_missing_lat_lon-8fb65078-0' finished in state Completed(message=None, type=COMPLETED)\n",
      "00:23:16.847 | Shutting down task runner `SequentialTaskRunner`...\n",
      "00:23:17.674 | Flow run 'lovely-oriole' finished in state Completed(message='All states completed.', type=COMPLETED)\n"
     ]
    },
    {
     "data": {
      "text/html": [
       "<div>\n",
       "<style scoped>\n",
       "    .dataframe tbody tr th:only-of-type {\n",
       "        vertical-align: middle;\n",
       "    }\n",
       "\n",
       "    .dataframe tbody tr th {\n",
       "        vertical-align: top;\n",
       "    }\n",
       "\n",
       "    .dataframe thead th {\n",
       "        text-align: right;\n",
       "    }\n",
       "</style>\n",
       "<table border=\"1\" class=\"dataframe\">\n",
       "  <thead>\n",
       "    <tr style=\"text-align: right;\">\n",
       "      <th></th>\n",
       "      <th>fraction</th>\n",
       "      <th>num_inspections</th>\n",
       "    </tr>\n",
       "  </thead>\n",
       "  <tbody>\n",
       "    <tr>\n",
       "      <th>0</th>\n",
       "      <td>0.796951</td>\n",
       "      <td>163975</td>\n",
       "    </tr>\n",
       "    <tr>\n",
       "      <th>1</th>\n",
       "      <td>0.203049</td>\n",
       "      <td>41778</td>\n",
       "    </tr>\n",
       "  </tbody>\n",
       "</table>\n",
       "</div>"
      ],
      "text/plain": [
       "   fraction  num_inspections\n",
       "0  0.796951           163975\n",
       "1  0.203049            41778"
      ]
     },
     "metadata": {},
     "output_type": "display_data"
    },
    {
     "name": "stdout",
     "output_type": "stream",
     "text": [
      "CPU times: user 35 s, sys: 3.7 s, total: 38.7 s\n",
      "Wall time: 1min 5s\n"
     ]
    }
   ],
   "source": [
    "%%time\n",
    "state = analyze_infractions(\n",
    "    zip_filenames,\n",
    "    URI,\n",
    "    cols_order_wanted,\n",
    "    establishment_types_wanted,\n",
    "    table_name,\n",
    "    \"addressinfo\"\n",
    ")\n",
    "df = state.result().result()\n",
    "display(\n",
    "    df[\"is_infraction\"]\n",
    "    .value_counts(normalize=True)\n",
    "    .rename(\"fraction\")\n",
    "    .to_frame()\n",
    "    .merge(\n",
    "        df[\"is_infraction\"].value_counts().rename(\"num_inspections\").to_frame(),\n",
    "        left_index=True,\n",
    "        right_index=True,\n",
    "        how=\"inner\",\n",
    "    )\n",
    ")"
   ]
  }
 ],
 "metadata": {
  "kernelspec": {
   "display_name": "Python 3 (ipykernel)",
   "language": "python",
   "name": "python3"
  },
  "language_info": {
   "codemirror_mode": {
    "name": "ipython",
    "version": 3
   },
   "file_extension": ".py",
   "mimetype": "text/x-python",
   "name": "python",
   "nbconvert_exporter": "python",
   "pygments_lexer": "ipython3",
   "version": "3.9.5"
  }
 },
 "nbformat": 4,
 "nbformat_minor": 5
}
