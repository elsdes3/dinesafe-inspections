{
 "cells": [
  {
   "cell_type": "markdown",
   "id": "7d495001-a342-475d-9247-2a3422c72b2d",
   "metadata": {},
   "source": [
    "# Upload/Download Data to/from Cloud Storage"
   ]
  },
  {
   "cell_type": "code",
   "execution_count": null,
   "id": "405d5cb4-5880-4d79-8c4a-707b96aaa54b",
   "metadata": {},
   "outputs": [],
   "source": [
    "%load_ext lab_black\n",
    "%load_ext autoreload\n",
    "%autoreload 2"
   ]
  },
  {
   "cell_type": "code",
   "execution_count": null,
   "id": "cd264684-625b-444a-8cbf-4d8787e65b3a",
   "metadata": {},
   "outputs": [],
   "source": [
    "import os\n",
    "from glob import glob\n",
    "from typing import Dict\n",
    "from zipfile import ZipFile\n",
    "\n",
    "from azure.storage.blob import BlobServiceClient\n",
    "from dotenv import find_dotenv, load_dotenv"
   ]
  },
  {
   "cell_type": "markdown",
   "id": "064b2c8b-d8a7-40cc-b6c4-501986c93d87",
   "metadata": {},
   "source": [
    "## About"
   ]
  },
  {
   "cell_type": "markdown",
   "id": "74e719e7-9165-453e-a9b0-06fec4190dd8",
   "metadata": {},
   "source": [
    "Processed data will be uploaded to or downloaded from [Azure blob storage](https://azure.microsoft.com/en-us/services/storage/blobs/)."
   ]
  },
  {
   "cell_type": "markdown",
   "id": "2a8bb521-1284-4d55-9aa3-2d4bd832720e",
   "metadata": {},
   "source": [
    "## User Inputs"
   ]
  },
  {
   "cell_type": "code",
   "execution_count": null,
   "id": "3a3a6d44-9f8d-40e3-8f35-c24bf6830ea4",
   "metadata": {},
   "outputs": [],
   "source": [
    "PROJ_ROOT_DIR = os.getcwd()"
   ]
  },
  {
   "cell_type": "code",
   "execution_count": null,
   "id": "ddacd79e-3a3c-4722-a987-da7c81e10008",
   "metadata": {
    "tags": [
     "parameters"
    ]
   },
   "outputs": [],
   "source": [
    "# Upload inputs\n",
    "blob_name_suffixes = [84]\n",
    "\n",
    "# Download inputs\n",
    "dload_blob_suffix = 84\n",
    "dload_fpath = (\n",
    "    \"data/processed/filtered_transformed_filledmissing_data__20211209_120056.zip\"\n",
    ")\n",
    "\n",
    "# Action to perform\n",
    "action = \"download\""
   ]
  },
  {
   "cell_type": "code",
   "execution_count": null,
   "id": "5f57de47-6d9b-4999-9323-4ccb497730f9",
   "metadata": {},
   "outputs": [],
   "source": [
    "load_dotenv(find_dotenv())\n",
    "\n",
    "conn_str = (\n",
    "    \"DefaultEndpointsProtocol=https;\"\n",
    "    f\"AccountName={os.getenv('AZURE_STORAGE_ACCOUNT')};\"\n",
    "    f\"AccountKey={os.getenv('AZURE_STORAGE_KEY')};\"\n",
    "    f\"EndpointSuffix={os.getenv('ENDPOINT_SUFFIX')}\"\n",
    ")"
   ]
  },
  {
   "cell_type": "code",
   "execution_count": null,
   "id": "41170fe1-6aaf-44b3-9aaa-d016beabd95a",
   "metadata": {},
   "outputs": [],
   "source": [
    "def upload_az_file_blobs(blob_names_dict: Dict, conn_str: str) -> None:\n",
    "    blob_service_client = BlobServiceClient.from_connection_string(conn_str=conn_str)\n",
    "    az_container_name = os.getenv(\"AZURE_BLOB_CONTAINER_NAME\")\n",
    "    for az_blob_name, local_file_path in blob_names_dict.items():\n",
    "        blob_client = blob_service_client.get_blob_client(\n",
    "            container=az_container_name, blob=az_blob_name\n",
    "        )\n",
    "        # print(az_blob_name, local_file_path)\n",
    "        if not list(\n",
    "            blob_service_client.get_container_client(az_container_name).list_blobs(\n",
    "                name_starts_with=az_blob_name\n",
    "            )\n",
    "        ):\n",
    "            with open(local_file_path, \"rb\") as data:\n",
    "                blob_client.upload_blob(data)\n",
    "            print(f\"Blob {az_blob_name} not found. Uploaded {local_file_path}.\")\n",
    "        else:\n",
    "            print(f\"Blob {az_blob_name} found. Did not upload {local_file_path}.\")"
   ]
  },
  {
   "cell_type": "code",
   "execution_count": null,
   "id": "7b8ed953-4dfd-463c-8ccd-6cf76638d254",
   "metadata": {},
   "outputs": [],
   "source": [
    "def download_az_file_blobs(blob_names_dict: Dict, conn_str: str) -> None:\n",
    "    downloaded_blobs = []\n",
    "    blob_service_client = BlobServiceClient.from_connection_string(conn_str=conn_str)\n",
    "    for az_blob_name, local_file_path in blob_names_dict.items():\n",
    "        blob_client = blob_service_client.get_blob_client(\n",
    "            container=os.getenv(\"AZURE_BLOB_CONTAINER_NAME\"), blob=az_blob_name\n",
    "        )\n",
    "        # print(blob_client, local_file_path)\n",
    "        downloaded_blobs.append(local_file_path)\n",
    "        if not os.path.exists(local_file_path):\n",
    "            with open(local_file_path, \"wb\") as download_file:\n",
    "                download_stream = blob_client.download_blob()\n",
    "                download_file.write(download_stream.readall())\n",
    "            print(f\"Blob {az_blob_name} not found at {local_file_path}. Downloaded.\")\n",
    "        else:\n",
    "            print(f\"Blob {az_blob_name} found at {local_file_path}. Did not download.\")\n",
    "        return downloaded_blobs"
   ]
  },
  {
   "cell_type": "code",
   "execution_count": null,
   "id": "580a5cf1-ef37-4ff9-9f0b-856ca2f92473",
   "metadata": {},
   "outputs": [],
   "source": [
    "def unarchive(file_name, data_dir, search_str, flatten_filepaths=True):\n",
    "    if file_name:\n",
    "        if flatten_filepaths:\n",
    "            file_name = file_name[0]\n",
    "            # print(file_name)\n",
    "        with ZipFile(file_name) as zip_ref:\n",
    "            zip_ref.extractall(data_dir)\n",
    "        print(\n",
    "            f\"Unarchived contents of {os.path.basename(file_name)} to \"\n",
    "            f\"{os.path.split(data_dir)[-1]}\"\n",
    "        )\n",
    "    else:\n",
    "        print(f\"Got empty archive name. Did not unarchive\")\n",
    "    return glob(os.path.join(data_dir, search_str))"
   ]
  },
  {
   "cell_type": "code",
   "execution_count": null,
   "id": "5ca85c14-a5d5-4088-a133-924fbb055cca",
   "metadata": {},
   "outputs": [],
   "source": [
    "if action == \"upload\":\n",
    "    blob_names = {\n",
    "        f\"{os.getenv('BLOB_NAME_PREFIX')}{list(blob_name_suffixes)[0]}\": glob(\n",
    "            os.path.join(\"*.zip\")\n",
    "        )[-1]\n",
    "    }\n",
    "else:\n",
    "    blob_names = {f\"{os.getenv('BLOB_NAME_PREFIX')}{dload_blob_suffix}\": dload_fpath}\n",
    "print(blob_names)"
   ]
  },
  {
   "cell_type": "markdown",
   "id": "6ee96cf3-5ff7-4ef3-af90-ad65f1c9038e",
   "metadata": {},
   "source": [
    "## Upload to Blob Storage"
   ]
  },
  {
   "cell_type": "markdown",
   "id": "0bbea216-b3fb-45fb-b64a-716f77ca59b0",
   "metadata": {},
   "source": [
    "Upload to blob store"
   ]
  },
  {
   "cell_type": "code",
   "execution_count": null,
   "id": "e725ed1f-b243-40f1-8008-dd66d8168d42",
   "metadata": {},
   "outputs": [],
   "source": [
    "%%time\n",
    "if action == \"upload\":\n",
    "    upload_az_file_blobs(blob_names, conn_str)"
   ]
  },
  {
   "cell_type": "markdown",
   "id": "6f3b60b1-3a36-491d-9917-5ed588ae33ad",
   "metadata": {},
   "source": [
    "## Download from Blob Storage"
   ]
  },
  {
   "cell_type": "code",
   "execution_count": null,
   "id": "3c0aa2ae-74cb-4887-9eb7-47f150a7278a",
   "metadata": {},
   "outputs": [],
   "source": [
    "%%time\n",
    "if action == \"download\":\n",
    "    downloaded_archives = download_az_file_blobs(blob_names, conn_str)\n",
    "    print(downloaded_archives)\n",
    "\n",
    "    unarchived_archives = [\n",
    "        unarchive(\n",
    "            downloaded_archive,\n",
    "            data_dir=\"data/processed\",\n",
    "            search_str=\"filtered_transformed_filledmissing_data__*.zip\",\n",
    "            flatten_filepaths=False,\n",
    "        )\n",
    "        for downloaded_archive in downloaded_archives\n",
    "    ][0]\n",
    "    print(unarchived_archives)"
   ]
  }
 ],
 "metadata": {
  "kernelspec": {
   "display_name": "Python 3 (ipykernel)",
   "language": "python",
   "name": "python3"
  },
  "language_info": {
   "codemirror_mode": {
    "name": "ipython",
    "version": 3
   },
   "file_extension": ".py",
   "mimetype": "text/x-python",
   "name": "python",
   "nbconvert_exporter": "python",
   "pygments_lexer": "ipython3",
   "version": "3.9.5"
  }
 },
 "nbformat": 4,
 "nbformat_minor": 5
}
