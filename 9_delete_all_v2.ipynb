{
 "cells": [
  {
   "cell_type": "markdown",
   "id": "85fdc0d2-a937-4e67-a1eb-6b0ee7e1fd05",
   "metadata": {},
   "source": [
    "# Delete Resources and Data"
   ]
  },
  {
   "cell_type": "code",
   "execution_count": 1,
   "id": "d64a3e78-5075-4ec5-b0ad-d9ada219bacb",
   "metadata": {},
   "outputs": [],
   "source": [
    "%load_ext lab_black\n",
    "%load_ext autoreload\n",
    "%autoreload 2"
   ]
  },
  {
   "cell_type": "code",
   "execution_count": 2,
   "id": "5f0cf6de-9c23-474f-aec7-34cebeef217e",
   "metadata": {},
   "outputs": [],
   "source": [
    "import configparser\n",
    "import os\n",
    "import shutil\n",
    "from glob import glob\n",
    "from typing import Dict, Union\n",
    "\n",
    "import pandas as pd\n",
    "import snowflake.connector"
   ]
  },
  {
   "cell_type": "markdown",
   "id": "ff7ec3af-caad-4255-ad96-afc20f9dcd69",
   "metadata": {},
   "source": [
    "## About"
   ]
  },
  {
   "cell_type": "markdown",
   "id": "0d7853f0-2fcb-4f90-b177-be4f0c2347b0",
   "metadata": {},
   "source": [
    "In this notebook, we will perform the following cleanup tasks\n",
    "- delete database\n",
    "- delete all supporting computing resources that were created (internal stage, file format)\n",
    "- delete all locally saved processed data\n",
    "- delete all locally downloaded raw data"
   ]
  },
  {
   "cell_type": "markdown",
   "id": "7cf38fe0-f45d-4cc6-9a6c-a8275e75f8c4",
   "metadata": {},
   "source": [
    "## User Inputs"
   ]
  },
  {
   "cell_type": "code",
   "execution_count": 3,
   "id": "75c15ddc-e911-457d-849c-7af51b860721",
   "metadata": {
    "tags": [
     "parameters"
    ]
   },
   "outputs": [],
   "source": [
    "# Name of database table\n",
    "table_names = [\"inspections\", \"addressinfo\"]\n",
    "\n",
    "stage_name = \"processed_dinesafe_data\"\n",
    "file_format_name = \"COMMACOLSEP_ONEHEADROW\"\n",
    "\n",
    "raw_data_dir = \"data/raw\"\n",
    "processed_data_dir = \"data/processed\"\n",
    "\n",
    "ci_run = \"no\""
   ]
  },
  {
   "cell_type": "code",
   "execution_count": 4,
   "id": "eaf8bf66-17a5-42e7-9562-4301769701f0",
   "metadata": {},
   "outputs": [],
   "source": [
    "if ci_run == \"yes\":\n",
    "    ACCOUNT = os.getenv(\"SNOWFLAKE_ACCOUNT\")\n",
    "    USER = os.getenv(\"SNOWFLAKE_USER\")\n",
    "    PASS = os.getenv(\"SNOWFLAKE_PASS\")\n",
    "    WAREHOUSE = os.getenv(\"SNOWFLAKE_WAREHOUSE\")\n",
    "    DB_SCHEMA = os.getenv(\"SNOWFLAKE_DB_SCHEMA\")\n",
    "    DB_NAME = \"dinesafe\"\n",
    "else:\n",
    "    config = configparser.ConfigParser()\n",
    "    config.read(\"../sql.ini\")\n",
    "    default_cfg = config[\"default\"]\n",
    "    ACCOUNT = default_cfg[\"SNOWFLAKE_ACCOUNT\"]\n",
    "    USER = default_cfg[\"SNOWFLAKE_USER\"]\n",
    "    PASS = default_cfg[\"SNOWFLAKE_PASS\"]\n",
    "    WAREHOUSE = default_cfg[\"SNOWFLAKE_WAREHOUSE\"]\n",
    "    DB_SCHEMA = default_cfg[\"SNOWFLAKE_DB_SCHEMA\"]\n",
    "    DB_NAME = \"dinesafe\""
   ]
  },
  {
   "cell_type": "code",
   "execution_count": 5,
   "id": "ffc016a5-7fee-432a-879c-c2f76ef1623f",
   "metadata": {},
   "outputs": [],
   "source": [
    "connector_dict = dict(\n",
    "    account=ACCOUNT,\n",
    "    user=USER,\n",
    "    password=PASS,\n",
    "    database=DB_NAME,\n",
    "    schema=\"public\",\n",
    "    warehouse=WAREHOUSE,\n",
    "    role=\"sysadmin\",\n",
    ")\n",
    "connector_dict_no_db = dict(\n",
    "    account=ACCOUNT,\n",
    "    user=USER,\n",
    "    password=PASS,\n",
    "    warehouse=WAREHOUSE,\n",
    "    role=\"sysadmin\",\n",
    ")"
   ]
  },
  {
   "cell_type": "code",
   "execution_count": 6,
   "id": "a5ba67d2-5d58-4881-9c2b-d4781e8a1afa",
   "metadata": {},
   "outputs": [],
   "source": [
    "def show_sql_df(\n",
    "    query: str,\n",
    "    cursor,\n",
    "    cnx=None,\n",
    "    table_output: bool = False,\n",
    "    use_manual_approach: bool = False,\n",
    ") -> Union[None, pd.DataFrame]:\n",
    "    cursor.execute(query)\n",
    "    if cnx:\n",
    "        cnx.commit()\n",
    "    if table_output:\n",
    "        if use_manual_approach:\n",
    "            colnames = [cdesc[0].lower() for cdesc in cursor.description]\n",
    "            cur_fetched = cursor.fetchall()\n",
    "            if cur_fetched:\n",
    "                df_query_output = pd.DataFrame.from_records(\n",
    "                    cur_fetched, columns=colnames\n",
    "                )\n",
    "                with pd.option_context(\n",
    "                    \"display.max_columns\", 200, \"display.max_colwidth\", 200\n",
    "                ):\n",
    "                    display(df_query_output)\n",
    "                return df_query_output\n",
    "        else:\n",
    "            df_query_output = cursor.fetch_pandas_all()\n",
    "            with pd.option_context(\n",
    "                \"display.max_columns\", 200, \"display.max_colwidth\", 200\n",
    "            ):\n",
    "                display(df_query_output)\n",
    "            return df_query_output\n",
    "    return pd.DataFrame()"
   ]
  },
  {
   "cell_type": "code",
   "execution_count": 7,
   "id": "7f512bcc-d909-4c76-8e55-14ca33a72868",
   "metadata": {},
   "outputs": [],
   "source": [
    "def delete_table(connector_dict: Dict, table_name: str) -> None:\n",
    "    conn = snowflake.connector.connect(**connector_dict)\n",
    "    cur = conn.cursor()\n",
    "    for query in [\n",
    "        f\"TRUNCATE TABLE IF EXISTS {table_name}\",\n",
    "        f\"DROP TABLE IF EXISTS {table_name}\",\n",
    "    ]:\n",
    "        _ = cur.execute(query)\n",
    "    query = f\"\"\"\n",
    "            SHOW TABLES LIKE '%{table_name}%'\n",
    "            \"\"\"\n",
    "    df = show_sql_df(query, cur, conn, True, True)\n",
    "    assert df.empty\n",
    "    print(f\"Deleted table {table_name}\")\n",
    "    cur.close()\n",
    "    conn.close()\n",
    "\n",
    "\n",
    "def delete_stage(connector_dict: Dict, stage_name: str) -> None:\n",
    "    conn = snowflake.connector.connect(**connector_dict)\n",
    "    cur = conn.cursor()\n",
    "    query = f\"\"\"\n",
    "            DROP STAGE IF EXISTS {stage_name}\n",
    "            \"\"\"\n",
    "    _ = cur.execute(query)\n",
    "    query = f\"\"\"\n",
    "            SHOW STAGES LIKE '%{stage_name}%'\n",
    "            \"\"\"\n",
    "    df = show_sql_df(query, cur, conn, True, True)\n",
    "    assert df.empty\n",
    "    print(f\"Deleted stage {stage_name}\")\n",
    "    cur.close()\n",
    "    conn.close()\n",
    "\n",
    "\n",
    "def delete_file_format(connector_dict: Dict, file_format_name: str) -> None:\n",
    "    conn = snowflake.connector.connect(**connector_dict)\n",
    "    cur = conn.cursor()\n",
    "    query = f\"\"\"\n",
    "            DROP FILE FORMAT IF EXISTS {file_format_name}\n",
    "            \"\"\"\n",
    "    _ = cur.execute(query)\n",
    "    query = f\"\"\"\n",
    "            SHOW FILE FORMATS LIKE '%{file_format_name}%'\n",
    "            \"\"\"\n",
    "    df = show_sql_df(query, cur, conn, True, True)\n",
    "    assert df.empty\n",
    "    print(f\"Deleted file format {file_format_name}\")\n",
    "    cur.close()\n",
    "    conn.close()\n",
    "\n",
    "\n",
    "def delete_database(connector_dict_no_db: Dict, database_name: str) -> None:\n",
    "    conn = snowflake.connector.connect(**connector_dict_no_db)\n",
    "    cur = conn.cursor()\n",
    "    query = f\"\"\"\n",
    "            DROP DATABASE IF EXISTS {database_name}\n",
    "            \"\"\"\n",
    "    _ = cur.execute(query)\n",
    "    query = f\"\"\"\n",
    "            SHOW DATABASES LIKE '%{database_name}%'\n",
    "            \"\"\"\n",
    "    df = show_sql_df(query, cur, conn, True, True)\n",
    "    assert df.empty\n",
    "    print(f\"Deleted database {database_name}\")\n",
    "    cur.close()\n",
    "    conn.close()\n",
    "\n",
    "\n",
    "def delete_local_processed_data(processed_data_dir: str) -> None:\n",
    "    local_processed_data_files = glob(f\"{processed_data_dir}/*.csv\")\n",
    "    for f in local_processed_data_files:\n",
    "        os.remove(f)\n",
    "    print(f\"Deleted local processed data from {processed_data_dir}\")\n",
    "\n",
    "\n",
    "def delete_local_raw_data(raw_data_dir: str) -> None:\n",
    "    local_raw_data_dirs = glob(f\"{raw_data_dir}/*\")\n",
    "    for local_raw_data_dir in local_raw_data_dirs:\n",
    "        if os.path.isdir(local_raw_data_dir):\n",
    "            shutil.rmtree(local_raw_data_dir)\n",
    "    print(f\"Deleted local raw data from {raw_data_dir}\")"
   ]
  },
  {
   "cell_type": "markdown",
   "id": "c39370f5-d695-4117-ba4f-d7c84272f7d7",
   "metadata": {},
   "source": [
    "## Perform Cleanup"
   ]
  },
  {
   "cell_type": "markdown",
   "id": "dc66537c-1a23-46e5-aa31-e50f3d4c601b",
   "metadata": {},
   "source": [
    "### Delete Tables"
   ]
  },
  {
   "cell_type": "code",
   "execution_count": 8,
   "id": "27dc6555-9f8d-4609-9775-aa2a781b5927",
   "metadata": {},
   "outputs": [
    {
     "name": "stdout",
     "output_type": "stream",
     "text": [
      "Deleted table inspections\n",
      "Deleted table addressinfo\n",
      "CPU times: user 322 ms, sys: 7.49 ms, total: 329 ms\n",
      "Wall time: 2.25 s\n"
     ]
    }
   ],
   "source": [
    "%%time\n",
    "for table_name in table_names:\n",
    "    delete_table(connector_dict, table_name)"
   ]
  },
  {
   "cell_type": "markdown",
   "id": "8643b319-5b03-4c99-81ba-86eae4024f5b",
   "metadata": {},
   "source": [
    "### Delete Internal Stage"
   ]
  },
  {
   "cell_type": "code",
   "execution_count": 9,
   "id": "7cee2240-95bd-4614-bc66-9cd9f2eeaafb",
   "metadata": {},
   "outputs": [
    {
     "name": "stdout",
     "output_type": "stream",
     "text": [
      "Deleted stage processed_dinesafe_data\n"
     ]
    }
   ],
   "source": [
    "delete_stage(connector_dict, stage_name)"
   ]
  },
  {
   "cell_type": "markdown",
   "id": "95ad6172-230d-4fcb-9f50-f7736f083ccb",
   "metadata": {},
   "source": [
    "### Delete File Format"
   ]
  },
  {
   "cell_type": "code",
   "execution_count": 10,
   "id": "ce293575-80aa-4f52-8771-6a1116d6e1bb",
   "metadata": {},
   "outputs": [
    {
     "name": "stdout",
     "output_type": "stream",
     "text": [
      "Deleted file format COMMACOLSEP_ONEHEADROW\n"
     ]
    }
   ],
   "source": [
    "delete_file_format(connector_dict, file_format_name)"
   ]
  },
  {
   "cell_type": "markdown",
   "id": "704693a3-2926-4c1c-b4de-75bdb9551999",
   "metadata": {},
   "source": [
    "### Delete Database"
   ]
  },
  {
   "cell_type": "code",
   "execution_count": 11,
   "id": "326ff89a-c69e-45fd-841d-596fbca352b1",
   "metadata": {},
   "outputs": [
    {
     "name": "stdout",
     "output_type": "stream",
     "text": [
      "Deleted database dinesafe\n"
     ]
    }
   ],
   "source": [
    "delete_database(connector_dict_no_db, DB_NAME)"
   ]
  },
  {
   "cell_type": "markdown",
   "id": "447d89ef-83da-4b29-ba43-4761f5f7d466",
   "metadata": {},
   "source": [
    "### Delete Locally stored Processed Data"
   ]
  },
  {
   "cell_type": "code",
   "execution_count": 12,
   "id": "41da6195-efb1-45ab-af01-116f5463b971",
   "metadata": {},
   "outputs": [
    {
     "name": "stdout",
     "output_type": "stream",
     "text": [
      "Deleted local processed data from data/processed\n"
     ]
    }
   ],
   "source": [
    "delete_local_processed_data(processed_data_dir)"
   ]
  },
  {
   "cell_type": "markdown",
   "id": "121b4138-c334-49c9-9d49-d7f9e6e2b1bd",
   "metadata": {},
   "source": [
    "### Delete Locally stored Raw Data"
   ]
  },
  {
   "cell_type": "code",
   "execution_count": 13,
   "id": "a4d3f0e5-8d8b-4720-94f0-adf59bdd85ca",
   "metadata": {},
   "outputs": [
    {
     "name": "stdout",
     "output_type": "stream",
     "text": [
      "Deleted local raw data from data/raw\n"
     ]
    }
   ],
   "source": [
    "delete_local_raw_data(raw_data_dir)"
   ]
  }
 ],
 "metadata": {
  "kernelspec": {
   "display_name": "Python 3 (ipykernel)",
   "language": "python",
   "name": "python3"
  },
  "language_info": {
   "codemirror_mode": {
    "name": "ipython",
    "version": 3
   },
   "file_extension": ".py",
   "mimetype": "text/x-python",
   "name": "python",
   "nbconvert_exporter": "python",
   "pygments_lexer": "ipython3",
   "version": "3.9.7"
  }
 },
 "nbformat": 4,
 "nbformat_minor": 5
}
