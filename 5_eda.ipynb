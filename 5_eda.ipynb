{
 "cells": [
  {
   "cell_type": "markdown",
   "id": "1b679922-fb3c-4c92-a21e-3c3e905eb704",
   "metadata": {
    "tags": []
   },
   "source": [
    "# EDA"
   ]
  },
  {
   "cell_type": "code",
   "execution_count": null,
   "id": "c88a9149-0f95-4640-8fbc-14474b8a6c03",
   "metadata": {},
   "outputs": [],
   "source": [
    "%load_ext lab_black\n",
    "%load_ext autoreload\n",
    "%autoreload 2"
   ]
  },
  {
   "cell_type": "code",
   "execution_count": null,
   "id": "d1b2a544-e7b6-49f1-8121-546e00c5ac67",
   "metadata": {},
   "outputs": [],
   "source": [
    "from glob import glob\n",
    "\n",
    "import pandas as pd"
   ]
  },
  {
   "cell_type": "markdown",
   "id": "182dabd0-90fd-4a19-a75c-79877e9a1b67",
   "metadata": {},
   "source": [
    "## About"
   ]
  },
  {
   "cell_type": "markdown",
   "id": "6bf6c493-5932-47b2-9780-75090ba95b2f",
   "metadata": {},
   "source": []
  },
  {
   "cell_type": "markdown",
   "id": "47606764-78c1-42e9-8b77-85c53192bcea",
   "metadata": {},
   "source": [
    "## Load Data"
   ]
  },
  {
   "cell_type": "code",
   "execution_count": null,
   "id": "22c3b415-b7ec-41cf-9d44-dad1b6aab0a4",
   "metadata": {},
   "outputs": [],
   "source": [
    "%%time\n",
    "df = pd.read_csv(glob(\"data/processed/processed__*.csv\")[-1])\n",
    "df.head()"
   ]
  },
  {
   "cell_type": "markdown",
   "id": "ead73a9a-58b5-4c52-a311-4af26c06937e",
   "metadata": {},
   "source": [
    "## Links"
   ]
  },
  {
   "cell_type": "markdown",
   "id": "c6658e5c-8fdf-4105-be23-daad0b71c46b",
   "metadata": {},
   "source": [
    "1. [NYC Datascience EDA - not very thorough](https://nycdatascience.com/blog/student-works/san-francisco-restaurant-inspection-analysis-visualization/)"
   ]
  }
 ],
 "metadata": {
  "kernelspec": {
   "display_name": "Python 3 (ipykernel)",
   "language": "python",
   "name": "python3"
  },
  "language_info": {
   "codemirror_mode": {
    "name": "ipython",
    "version": 3
   },
   "file_extension": ".py",
   "mimetype": "text/x-python",
   "name": "python",
   "nbconvert_exporter": "python",
   "pygments_lexer": "ipython3",
   "version": "3.9.5"
  }
 },
 "nbformat": 4,
 "nbformat_minor": 5
}
